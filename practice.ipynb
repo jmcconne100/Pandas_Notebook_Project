{
  "nbformat": 4,
  "nbformat_minor": 0,
  "metadata": {
    "colab": {
      "provenance": [],
      "authorship_tag": "ABX9TyOqsOmsE0DmstcaVTG7HU2z",
      "include_colab_link": true
    },
    "kernelspec": {
      "name": "python3",
      "display_name": "Python 3"
    },
    "language_info": {
      "name": "python"
    }
  },
  "cells": [
    {
      "cell_type": "markdown",
      "metadata": {
        "id": "view-in-github",
        "colab_type": "text"
      },
      "source": [
        "<a href=\"https://colab.research.google.com/github/jmcconne100/Pandas_Notebook_Project/blob/main/practice.ipynb\" target=\"_parent\"><img src=\"https://colab.research.google.com/assets/colab-badge.svg\" alt=\"Open In Colab\"/></a>"
      ]
    },
    {
      "cell_type": "code",
      "execution_count": 1,
      "metadata": {
        "colab": {
          "base_uri": "https://localhost:8080/"
        },
        "id": "H3qPNvYp5FpD",
        "outputId": "02ba9b61-28ad-4121-8339-8715b5708ace"
      },
      "outputs": [
        {
          "output_type": "stream",
          "name": "stdout",
          "text": [
            "      name   age age_group\n",
            "0    Alice  25.0     adult\n",
            "1      Bob  42.0    senior\n",
            "2  Charlie  17.0     minor\n",
            "3    Diana  33.0     adult\n",
            "4      Eve   NaN   unknown\n"
          ]
        }
      ],
      "source": [
        "import pandas as pd\n",
        "import numpy as np\n",
        "\n",
        "df = pd.DataFrame({\n",
        "    \"name\": [\"Alice\", \"Bob\", \"Charlie\", \"Diana\", \"Eve\"],\n",
        "    \"age\": [25, 42, 17, 33, np.nan]\n",
        "})\n",
        "\n",
        "# Add a new column using np.where\n",
        "df[\"age_group\"] = np.where(\n",
        "    df[\"age\"] < 18, \"minor\",\n",
        "    np.where(df[\"age\"] < 40, \"adult\", \"senior\")\n",
        ")\n",
        "\n",
        "# Handle missing values with np.where\n",
        "df[\"age_group\"] = np.where(df[\"age\"].isna(), \"unknown\", df[\"age_group\"])\n",
        "\n",
        "print(df)\n"
      ]
    },
    {
      "cell_type": "code",
      "source": [
        "df = pd.DataFrame({\n",
        "    \"employee\": [\"Alice\", \"Bob\", \"Charlie\", \"Diana\", \"Eve\"],\n",
        "    \"department\": [\"HR\", \"hr\", \"Finance\", \"FIN\", \"fin\"]\n",
        "})\n",
        "\n",
        "# Define a mapping dictionary\n",
        "dept_map = {\n",
        "    \"hr\": \"Human Resources\",\n",
        "    \"HR\": \"Human Resources\",\n",
        "    \"Hr\": \"Human Resources\",\n",
        "    \"Finance\": \"Finance\",\n",
        "    \"FIN\": \"Finance\",\n",
        "    \"fin\": \"Finance\"\n",
        "}\n",
        "\n",
        "# Apply .map() to standardize department names\n",
        "df[\"department_clean\"] = df[\"department\"].map(dept_map)\n",
        "\n",
        "print(df)\n"
      ],
      "metadata": {
        "id": "v99btvV05ITX"
      },
      "execution_count": null,
      "outputs": []
    },
    {
      "cell_type": "code",
      "source": [
        "import pandas as pd\n",
        "\n",
        "df = pd.DataFrame({\n",
        "    \"text\": [\"  Hello World  \", \"  PYTHON   \", \"Data Science  \"]\n",
        "})\n",
        "\n",
        "# Normalize case and strip whitespace\n",
        "df[\"normalized\"] = df[\"text\"].str.strip().str.lower()\n",
        "\n",
        "print(df)\n"
      ],
      "metadata": {
        "colab": {
          "base_uri": "https://localhost:8080/"
        },
        "id": "tnCGVpTS0BUF",
        "outputId": "28af5c27-4cfa-47bf-e484-8f3f588488ea"
      },
      "execution_count": 3,
      "outputs": [
        {
          "output_type": "stream",
          "name": "stdout",
          "text": [
            "              text    normalized\n",
            "0    Hello World     hello world\n",
            "1        PYTHON           python\n",
            "2   Data Science    data science\n"
          ]
        }
      ]
    },
    {
      "cell_type": "code",
      "source": [
        "import pandas as pd\n",
        "\n",
        "df = pd.DataFrame({\n",
        "    \"text\": [\"Hello, world!!!\", \"Data@Science#2025\", \"clean-text_is#fun\"]\n",
        "})\n",
        "\n",
        "# Remove punctuation and special characters\n",
        "df[\"normalized\"] = df[\"text\"].str.replace(r\"[^\\w\\s]\", \"\", regex=True)\n",
        "\n",
        "print(df)\n"
      ],
      "metadata": {
        "colab": {
          "base_uri": "https://localhost:8080/"
        },
        "id": "_Uxg5mNp0CD9",
        "outputId": "5f97383c-1888-4350-8b6b-bacef540fe5d"
      },
      "execution_count": 4,
      "outputs": [
        {
          "output_type": "stream",
          "name": "stdout",
          "text": [
            "                text       normalized\n",
            "0    Hello, world!!!      Hello world\n",
            "1  Data@Science#2025  DataScience2025\n",
            "2  clean-text_is#fun  cleantext_isfun\n"
          ]
        }
      ]
    },
    {
      "cell_type": "code",
      "source": [
        "import pandas as pd\n",
        "\n",
        "df = pd.DataFrame({\n",
        "    \"text\": [\"   Version 2.0   \", \"  100 days of code! \", \"Text123 cleaning  \"]\n",
        "})\n",
        "\n",
        "# Remove digits and collapse multiple spaces\n",
        "df[\"normalized\"] = (\n",
        "    df[\"text\"]\n",
        "    .str.replace(r\"\\d+\", \"\", regex=True)   # remove digits\n",
        "    .str.replace(r\"\\s+\", \" \", regex=True)  # collapse extra spaces\n",
        "    .str.strip()\n",
        ")\n",
        "\n",
        "print(df)\n"
      ],
      "metadata": {
        "colab": {
          "base_uri": "https://localhost:8080/"
        },
        "id": "dH-1nz-m0D3O",
        "outputId": "574416d1-6366-4861-ce1b-4a1aff3a2d13"
      },
      "execution_count": 5,
      "outputs": [
        {
          "output_type": "stream",
          "name": "stdout",
          "text": [
            "                   text     normalized\n",
            "0        Version 2.0         Version .\n",
            "1    100 days of code!   days of code!\n",
            "2    Text123 cleaning    Text cleaning\n"
          ]
        }
      ]
    },
    {
      "cell_type": "code",
      "source": [
        "# Create a New Column by Arithmetic\n",
        "\n",
        "import pandas as pd\n",
        "\n",
        "df = pd.DataFrame({\n",
        "    \"price\": [100, 250, 400],\n",
        "    \"discount\": [10, 25, 50]\n",
        "})\n",
        "\n",
        "# Calculate discounted price\n",
        "df[\"final_price\"] = df[\"price\"] - df[\"discount\"]\n",
        "\n",
        "print(df)\n"
      ],
      "metadata": {
        "id": "Gt_90q5zVYyz"
      },
      "execution_count": null,
      "outputs": []
    },
    {
      "cell_type": "code",
      "source": [
        "# Create Columns Conditionally with np.where()\n",
        "\n",
        "import numpy as np\n",
        "import pandas as pd\n",
        "\n",
        "df = pd.DataFrame({\n",
        "    \"age\": [15, 22, 35, 65]\n",
        "})\n",
        "\n",
        "# Create age group column\n",
        "df[\"group\"] = np.where(df[\"age\"] < 18, \"child\",\n",
        "               np.where(df[\"age\"] < 60, \"adult\", \"senior\"))\n",
        "\n",
        "print(df)\n"
      ],
      "metadata": {
        "id": "dxwSr_wLVgEQ"
      },
      "execution_count": null,
      "outputs": []
    },
    {
      "cell_type": "code",
      "source": [
        "# Create Columns Using .map() for Category Mapping\n",
        "\n",
        "import pandas as pd\n",
        "\n",
        "df = pd.DataFrame({\n",
        "    \"gender\": [\"M\", \"F\", \"F\", \"M\", \"M\"]\n",
        "})\n",
        "\n",
        "# Map shorthand codes to full labels\n",
        "gender_map = {\"M\": \"Male\", \"F\": \"Female\"}\n",
        "df[\"gender_full\"] = df[\"gender\"].map(gender_map)\n",
        "\n",
        "print(df)\n"
      ],
      "metadata": {
        "id": "vmVHs_wDVm00"
      },
      "execution_count": null,
      "outputs": []
    },
    {
      "cell_type": "code",
      "source": [
        "# Create Columns Based on Text Patterns\n",
        "\n",
        "import pandas as pd\n",
        "\n",
        "df = pd.DataFrame({\n",
        "    \"review\": [\"Excellent product!\", \"Terrible experience\", \"Good value\", \"Bad packaging\"]\n",
        "})\n",
        "\n",
        "# Create sentiment flag based on keywords\n",
        "df[\"sentiment\"] = df[\"review\"].str.lower().apply(\n",
        "    lambda x: \"positive\" if \"good\" in x or \"excellent\" in x else\n",
        "              \"negative\" if \"bad\" in x or \"terrible\" in x else\n",
        "              \"neutral\"\n",
        ")\n",
        "\n",
        "print(df)\n"
      ],
      "metadata": {
        "id": "NVCnpgF3Vq-o"
      },
      "execution_count": null,
      "outputs": []
    },
    {
      "cell_type": "code",
      "source": [
        "# Create Columns Using .apply() Across Multiple Columns\n",
        "\n",
        "import pandas as pd\n",
        "\n",
        "df = pd.DataFrame({\n",
        "    \"first_name\": [\"Alice\", \"Bob\", \"Charlie\"],\n",
        "    \"last_name\": [\"Smith\", \"Brown\", \"Adams\"]\n",
        "})\n",
        "\n",
        "# Create a full name column\n",
        "df[\"full_name\"] = df.apply(lambda row: f\"{row['first_name']} {row['last_name']}\", axis=1)\n",
        "\n",
        "print(df)\n"
      ],
      "metadata": {
        "id": "v1AsHDRMVtdQ"
      },
      "execution_count": null,
      "outputs": []
    },
    {
      "cell_type": "code",
      "source": [
        "# Filter Rows by Single Condition\n",
        "\n",
        "import pandas as pd\n",
        "\n",
        "df = pd.DataFrame({\n",
        "    \"name\": [\"Alice\", \"Bob\", \"Charlie\", \"Diana\"],\n",
        "    \"age\": [25, 42, 17, 33]\n",
        "})\n",
        "\n",
        "# Keep only rows where age >= 30\n",
        "adults = df[df[\"age\"] >= 30]\n",
        "print(adults)\n"
      ],
      "metadata": {
        "id": "JtkYXxj4V0-F"
      },
      "execution_count": null,
      "outputs": []
    },
    {
      "cell_type": "code",
      "source": [
        "# Filter with Multiple Conditions (& / |)\n",
        "\n",
        "# People who are at least 18 but under 40\n",
        "subset = df[(df[\"age\"] >= 18) & (df[\"age\"] < 40)]\n",
        "print(subset)\n"
      ],
      "metadata": {
        "id": "inGkaf1tV3og"
      },
      "execution_count": null,
      "outputs": []
    },
    {
      "cell_type": "code",
      "source": [
        "# Filter Using .isin() for Category Lists\n",
        "\n",
        "df = pd.DataFrame({\n",
        "    \"department\": [\"HR\", \"Finance\", \"IT\", \"HR\", \"Sales\"]\n",
        "})\n",
        "\n",
        "# Keep only HR and Finance rows\n",
        "selected = df[df[\"department\"].isin([\"HR\", \"Finance\"])]\n",
        "print(selected)\n"
      ],
      "metadata": {
        "id": "96eY0xroV7f6"
      },
      "execution_count": null,
      "outputs": []
    },
    {
      "cell_type": "code",
      "source": [
        "# Filter Using String Matching\n",
        "\n",
        "df = pd.DataFrame({\n",
        "    \"review\": [\"Excellent product\", \"Bad quality\", \"Good value\", \"Average performance\"]\n",
        "})\n",
        "\n",
        "# Find rows containing \"good\" or \"excellent\" (case-insensitive)\n",
        "positive = df[df[\"review\"].str.contains(\"good|excellent\", case=False, na=False)]\n",
        "print(positive)\n"
      ],
      "metadata": {
        "id": "fD1uawTLWBxx"
      },
      "execution_count": null,
      "outputs": []
    },
    {
      "cell_type": "code",
      "source": [
        "# Filter Using Query Expressions\n",
        "\n",
        "df = pd.DataFrame({\n",
        "    \"name\": [\"Alice\", \"Bob\", \"Charlie\", \"Diana\"],\n",
        "    \"age\": [25, 42, 17, 33],\n",
        "    \"department\": [\"HR\", \"IT\", \"HR\", \"Finance\"]\n",
        "})\n",
        "\n",
        "# Query syntax for readable filters\n",
        "filtered = df.query(\"age >= 30 and department == 'HR'\")\n",
        "print(filtered)\n"
      ],
      "metadata": {
        "id": "JiFq0HzeWEf_"
      },
      "execution_count": null,
      "outputs": []
    },
    {
      "cell_type": "code",
      "source": [
        "# Sort by a Single Column\n",
        "\n",
        "import pandas as pd\n",
        "\n",
        "df = pd.DataFrame({\n",
        "    \"name\": [\"Alice\", \"Bob\", \"Charlie\", \"Diana\"],\n",
        "    \"age\": [25, 42, 17, 33]\n",
        "})\n",
        "\n",
        "# Sort by age (ascending by default)\n",
        "sorted_df = df.sort_values(\"age\")\n",
        "print(sorted_df)\n"
      ],
      "metadata": {
        "id": "WD4mxhuHWHzJ"
      },
      "execution_count": null,
      "outputs": []
    },
    {
      "cell_type": "code",
      "source": [
        "# Sort by Multiple Columns\n",
        "\n",
        "df = pd.DataFrame({\n",
        "    \"department\": [\"HR\", \"Finance\", \"HR\", \"Finance\"],\n",
        "    \"salary\": [60000, 70000, 50000, 90000]\n",
        "})\n",
        "\n",
        "# Sort by department (A→Z), then salary (high→low)\n",
        "sorted_df = df.sort_values(by=[\"department\", \"salary\"], ascending=[True, False])\n",
        "print(sorted_df)\n"
      ],
      "metadata": {
        "id": "x9be4xM1WLmK"
      },
      "execution_count": null,
      "outputs": []
    },
    {
      "cell_type": "code",
      "source": [
        "# Sort by Index\n",
        "\n",
        "df = pd.DataFrame({\n",
        "    \"name\": [\"Alice\", \"Bob\", \"Charlie\"],\n",
        "    \"score\": [85, 92, 88]\n",
        "}, index=[3, 1, 2])\n",
        "\n",
        "# Sort by the DataFrame’s index\n",
        "sorted_df = df.sort_index()\n",
        "print(sorted_df)\n"
      ],
      "metadata": {
        "id": "suCSkzK-WPpM"
      },
      "execution_count": null,
      "outputs": []
    },
    {
      "cell_type": "code",
      "source": [
        "# Sort by String Column Alphabetically\n",
        "\n",
        "df = pd.DataFrame({\n",
        "    \"fruit\": [\"Banana\", \"apple\", \"Orange\", \"grape\"]\n",
        "})\n",
        "\n",
        "# Sort alphabetically, ignoring case\n",
        "sorted_df = df.sort_values(by=\"fruit\", key=lambda s: s.str.lower())\n",
        "print(sorted_df)\n"
      ],
      "metadata": {
        "id": "_Tvl2HowWTNi"
      },
      "execution_count": null,
      "outputs": []
    },
    {
      "cell_type": "code",
      "source": [
        "# Sort by a Computed or Derived Column\n",
        "\n",
        "df = pd.DataFrame({\n",
        "    \"product\": [\"A\", \"B\", \"C\"],\n",
        "    \"sales\": [500, 1500, 1000],\n",
        "    \"returns\": [50, 100, 20]\n",
        "})\n",
        "\n",
        "# Sort by profit margin (sales - returns)\n",
        "sorted_df = df.assign(margin=df[\"sales\"] - df[\"returns\"]).sort_values(\"margin\", ascending=False)\n",
        "print(sorted_df)\n"
      ],
      "metadata": {
        "id": "GYYCCt1SWWWR"
      },
      "execution_count": null,
      "outputs": []
    },
    {
      "cell_type": "code",
      "source": [
        "# Converting Strings to Datetime\n",
        "\n",
        "import pandas as pd\n",
        "\n",
        "df = pd.DataFrame({\n",
        "    \"date_str\": [\"2025-10-20\", \"2025/10/21\", \"Oct 22, 2025\", \"2025.10.23\"]\n",
        "})\n",
        "\n",
        "# Convert strings to datetime objects\n",
        "df[\"date\"] = pd.to_datetime(df[\"date_str\"], errors=\"coerce\")\n",
        "\n",
        "print(df)\n"
      ],
      "metadata": {
        "id": "beXBCAS_Wbxb"
      },
      "execution_count": null,
      "outputs": []
    },
    {
      "cell_type": "code",
      "source": [
        "# Extracting Date Parts\n",
        "\n",
        "df[\"year\"] = df[\"date\"].dt.year\n",
        "df[\"month\"] = df[\"date\"].dt.month\n",
        "df[\"day\"] = df[\"date\"].dt.day\n",
        "df[\"weekday\"] = df[\"date\"].dt.day_name()\n",
        "\n",
        "print(df)\n"
      ],
      "metadata": {
        "id": "GbCdXNuTWfIb"
      },
      "execution_count": null,
      "outputs": []
    },
    {
      "cell_type": "code",
      "source": [
        "# Filtering by Date Range\n",
        "\n",
        "# Keep rows between two dates\n",
        "mask = (df[\"date\"] >= \"2025-10-21\") & (df[\"date\"] <= \"2025-10-22\")\n",
        "filtered = df[mask]\n",
        "\n",
        "print(filtered)\n"
      ],
      "metadata": {
        "id": "rlld4duOWlNF"
      },
      "execution_count": null,
      "outputs": []
    },
    {
      "cell_type": "code",
      "source": [],
      "metadata": {
        "id": "RxW9XLEuWoyu"
      },
      "execution_count": null,
      "outputs": []
    }
  ]
}